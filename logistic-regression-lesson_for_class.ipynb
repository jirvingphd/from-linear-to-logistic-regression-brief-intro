{
 "cells": [
  {
   "cell_type": "markdown",
   "metadata": {},
   "source": [
    "# From Linear to Logistic: a Brief Introduction to Logistic Regression"
   ]
  },
  {
   "cell_type": "markdown",
   "metadata": {},
   "source": [
    "- 10/07/21\n",
    "- James M. Irving, Ph.D."
   ]
  },
  {
   "cell_type": "markdown",
   "metadata": {
    "toc": true
   },
   "source": [
    "<h1>Table of Contents<span class=\"tocSkip\"></span></h1>\n",
    "<div class=\"toc\"><ul class=\"toc-item\"><li><span><a href=\"#From-Linear-to-Logistic:-a-Brief-Introduction-to-Logistic-Regression\" data-toc-modified-id=\"From-Linear-to-Logistic:-a-Brief-Introduction-to-Logistic-Regression-1\"><span class=\"toc-item-num\">1&nbsp;&nbsp;</span>From Linear to Logistic: a Brief Introduction to Logistic Regression</a></span><ul class=\"toc-item\"><li><span><a href=\"#Learning-Objectives\" data-toc-modified-id=\"Learning-Objectives-1.1\"><span class=\"toc-item-num\">1.1&nbsp;&nbsp;</span>Learning Objectives</a></span></li></ul></li><li><span><a href=\"#Predicting-the-Price-of-a-Home-Using-Linear-Regression\" data-toc-modified-id=\"Predicting-the-Price-of-a-Home-Using-Linear-Regression-2\"><span class=\"toc-item-num\">2&nbsp;&nbsp;</span>Predicting the Price of a Home Using Linear Regression</a></span><ul class=\"toc-item\"><li><span><a href=\"#🕹Activity:-Visualizing-Our-Features-vs-Our-Target\" data-toc-modified-id=\"🕹Activity:-Visualizing-Our-Features-vs-Our-Target-2.1\"><span class=\"toc-item-num\">2.1&nbsp;&nbsp;</span><del>🕹Activity:</del> Visualizing Our Features vs Our Target</a></span><ul class=\"toc-item\"><li><span><a href=\"#Functionizing-Our-Code\" data-toc-modified-id=\"Functionizing-Our-Code-2.1.1\"><span class=\"toc-item-num\">2.1.1&nbsp;&nbsp;</span>Functionizing Our Code</a></span></li><li><span><a href=\"#What-Our-Trendline-Tells-Us\" data-toc-modified-id=\"What-Our-Trendline-Tells-Us-2.1.2\"><span class=\"toc-item-num\">2.1.2&nbsp;&nbsp;</span>What Our Trendline Tells Us</a></span></li></ul></li><li><span><a href=\"#🕹Activity:-Predicting-House-Price-with-LinearRegression\" data-toc-modified-id=\"🕹Activity:-Predicting-House-Price-with-LinearRegression-2.2\"><span class=\"toc-item-num\">2.2&nbsp;&nbsp;</span>🕹Activity: Predicting House Price with <code>LinearRegression</code></a></span><ul class=\"toc-item\"><li><span><a href=\"#What-Coefficients-Did-Our-Model-Find?\" data-toc-modified-id=\"What-Coefficients-Did-Our-Model-Find?-2.2.1\"><span class=\"toc-item-num\">2.2.1&nbsp;&nbsp;</span>What Coefficients Did Our Model Find?</a></span></li></ul></li><li><span><a href=\"#Linear-Regression-Summary\" data-toc-modified-id=\"Linear-Regression-Summary-2.3\"><span class=\"toc-item-num\">2.3&nbsp;&nbsp;</span>Linear Regression Summary</a></span></li></ul></li><li><span><a href=\"#Predicting-the-Probability-of-a-Being-an-Expensive-Home-Logistic-Regression\" data-toc-modified-id=\"Predicting-the-Probability-of-a-Being-an-Expensive-Home-Logistic-Regression-3\"><span class=\"toc-item-num\">3&nbsp;&nbsp;</span>Predicting the Probability of a Being an Expensive Home Logistic Regression</a></span><ul class=\"toc-item\"><li><span><a href=\"#🕹Activity:-Converting-Our-Task-to-A-Classifcation-Task\" data-toc-modified-id=\"🕹Activity:-Converting-Our-Task-to-A-Classifcation-Task-3.1\"><span class=\"toc-item-num\">3.1&nbsp;&nbsp;</span><del>🕹Activity:</del> Converting Our Task to A Classifcation Task</a></span><ul class=\"toc-item\"><li><span><a href=\"#Visualizing-Our-Features-vs-our-New-Binary-Taget\" data-toc-modified-id=\"Visualizing-Our-Features-vs-our-New-Binary-Taget-3.1.1\"><span class=\"toc-item-num\">3.1.1&nbsp;&nbsp;</span>Visualizing Our Features vs our New Binary Taget</a></span></li><li><span><a href=\"#When-straight-lines-aren't-enough....\" data-toc-modified-id=\"When-straight-lines-aren't-enough....-3.1.2\"><span class=\"toc-item-num\">3.1.2&nbsp;&nbsp;</span>When straight lines aren't enough....</a></span></li><li><span><a href=\"#Converting-Our-Linear-Equation-to-A-Sigmoid-Curve\" data-toc-modified-id=\"Converting-Our-Linear-Equation-to-A-Sigmoid-Curve-3.1.3\"><span class=\"toc-item-num\">3.1.3&nbsp;&nbsp;</span>Converting Our Linear Equation to A Sigmoid Curve</a></span></li></ul></li><li><span><a href=\"#🕹Activity:-Predicting-if-a-House-Belongs-to-the-&quot;Expensive-Home&quot;-class.\" data-toc-modified-id=\"🕹Activity:-Predicting-if-a-House-Belongs-to-the-&quot;Expensive-Home&quot;-class.-3.2\"><span class=\"toc-item-num\">3.2&nbsp;&nbsp;</span>🕹Activity: Predicting if a House Belongs to the \"Expensive Home\" class.</a></span></li></ul></li><li><span><a href=\"#Next-Class\" data-toc-modified-id=\"Next-Class-4\"><span class=\"toc-item-num\">4&nbsp;&nbsp;</span>Next Class</a></span></li><li><span><a href=\"#Questions?\" data-toc-modified-id=\"Questions?-5\"><span class=\"toc-item-num\">5&nbsp;&nbsp;</span>Questions?</a></span></li><li><span><a href=\"#Appendix\" data-toc-modified-id=\"Appendix-6\"><span class=\"toc-item-num\">6&nbsp;&nbsp;</span>Appendix</a></span><ul class=\"toc-item\"><li><ul class=\"toc-item\"><li><span><a href=\"#Interpreting-Odds-Coefficients\" data-toc-modified-id=\"Interpreting-Odds-Coefficients-6.0.1\"><span class=\"toc-item-num\">6.0.1&nbsp;&nbsp;</span>Interpreting Odds Coefficients</a></span></li><li><span><a href=\"#Titanic\" data-toc-modified-id=\"Titanic-6.0.2\"><span class=\"toc-item-num\">6.0.2&nbsp;&nbsp;</span>Titanic</a></span></li></ul></li></ul></li></ul></div>"
   ]
  },
  {
   "cell_type": "markdown",
   "metadata": {
    "ExecuteTime": {
     "end_time": "2021-09-30T17:22:57.157124Z",
     "start_time": "2021-09-30T17:22:57.154414Z"
    }
   },
   "source": [
    "## Learning Objectives\n",
    "- To review how linear regression predicts a continuous value.\n",
    "- To understand how we can convert a linear equation to a sigmoid curve bounded between 0 and 1. \n",
    "- To understand how Logistic Regression uses sigmoid curves to predict the probability of belonging to a specific class/category/label.\n",
    "- To apply both Linear Regression and Logistic Regression using sci-kit learn."
   ]
  },
  {
   "cell_type": "markdown",
   "metadata": {},
   "source": [
    "- Prerequisites/Assumptions:\n",
    "    - Some Familiarity with Linear Regression"
   ]
  },
  {
   "cell_type": "markdown",
   "metadata": {},
   "source": [
    "# Predicting the Price of a Home Using Linear Regression"
   ]
  },
  {
   "cell_type": "markdown",
   "metadata": {},
   "source": [
    "<img src=\"images/istock24011682medium_1200xx1697-955-0-88.jpg\" width=60% alt=\"Source: https://images.app.goo.gl/oJoMSGU8LGgDjkA76\">"
   ]
  },
  {
   "cell_type": "code",
   "execution_count": null,
   "metadata": {
    "ExecuteTime": {
     "end_time": "2021-10-06T23:22:13.663799Z",
     "start_time": "2021-10-06T23:22:10.861013Z"
    }
   },
   "outputs": [],
   "source": [
    "## personal pypi package\n",
    "# !pip install -U fsds\n",
    "from fsds.imports import *"
   ]
  },
  {
   "cell_type": "code",
   "execution_count": null,
   "metadata": {
    "ExecuteTime": {
     "end_time": "2021-10-06T23:22:13.669070Z",
     "start_time": "2021-10-06T23:22:13.665574Z"
    }
   },
   "outputs": [],
   "source": [
    "## additional required imports\n",
    "from sklearn.model_selection import train_test_split\n",
    "from sklearn.metrics import (r2_score, plot_confusion_matrix,\n",
    "                             classification_report)\n",
    "\n",
    "## Customized Options\n",
    "pd.set_option('display.float_format',lambda x: f\"{x:,.4f}\")\n",
    "plt.style.use('seaborn-talk')"
   ]
  },
  {
   "cell_type": "code",
   "execution_count": null,
   "metadata": {
    "ExecuteTime": {
     "end_time": "2021-10-06T23:22:14.555957Z",
     "start_time": "2021-10-06T23:22:13.671508Z"
    }
   },
   "outputs": [],
   "source": [
    "## Load in the King's County housing dataset and display the head and info\n",
    "df = fs.datasets.load_king_county_housing(project_vers=False)\n",
    "display(df.head(),df.info())"
   ]
  },
  {
   "cell_type": "code",
   "execution_count": null,
   "metadata": {
    "ExecuteTime": {
     "end_time": "2021-10-06T23:22:15.212225Z",
     "start_time": "2021-10-06T23:22:14.558041Z"
    }
   },
   "outputs": [],
   "source": [
    "## Visualize the distribution of house prices (using seaborn!)\n",
    "sns.displot(df['price'],aspect=2);"
   ]
  },
  {
   "cell_type": "markdown",
   "metadata": {},
   "source": [
    "## ~~🕹Activity:~~ Visualizing Our Features vs Our Target"
   ]
  },
  {
   "cell_type": "markdown",
   "metadata": {},
   "source": [
    "- We want to determine how features of a home influence its sale price. \n",
    "- Specifically, we will be using:\n",
    "    - `sqft_living`:Square-Footage of all Living Areas\n",
    "    - `bedrooms`: # of Bedrooms\n",
    "    - `bathrooms`: # of Bathrooms"
   ]
  },
  {
   "cell_type": "code",
   "execution_count": null,
   "metadata": {
    "ExecuteTime": {
     "end_time": "2021-10-06T23:22:15.478833Z",
     "start_time": "2021-10-06T23:22:15.213881Z"
    }
   },
   "outputs": [],
   "source": [
    "## Plot a scatter plot of sqft-living vs price\n",
    "ax = sns.scatterplot(data=df,x='sqft_living',y='price')\n",
    "ax.set_title('Relationship Between Square Footage and Housen Price')\n",
    "ax.yaxis.set_major_formatter(\"${x:,.0f}\")"
   ]
  },
  {
   "cell_type": "markdown",
   "metadata": {},
   "source": [
    "- We can see a positive relationship between sqft-living and price, but it would be better if we could show the line-of-best-fit with it"
   ]
  },
  {
   "cell_type": "markdown",
   "metadata": {},
   "source": [
    "### Functionizing Our Code"
   ]
  },
  {
   "cell_type": "code",
   "execution_count": null,
   "metadata": {
    "ExecuteTime": {
     "end_time": "2021-10-06T23:22:15.484343Z",
     "start_time": "2021-10-06T23:22:15.480593Z"
    }
   },
   "outputs": [],
   "source": [
    "## NOTE: if we had more time, we would write this together.\n",
    "def plot_feature_vs_target(df,x='sqft_living',y='price',price_format=True):\n",
    "    \"\"\"Plots a seaborn regplot of x vs y.\"\"\"\n",
    "    \n",
    "    ax = sns.regplot(data = df,x = x,y = y,\n",
    "                line_kws = dict(color='k',ls='--',lw=2),\n",
    "                     scatter_kws = dict(s=10,alpha=0.8))\n",
    "    \n",
    "    ax.get_figure().set_size_inches(10,6)\n",
    "    ax.set_title(f'{x} vs {y}')\n",
    "    \n",
    "    if price_format:\n",
    "        ax.yaxis.set_major_formatter(\"${x:,.0f}\")\n",
    "    return ax"
   ]
  },
  {
   "cell_type": "code",
   "execution_count": null,
   "metadata": {
    "ExecuteTime": {
     "end_time": "2021-10-06T23:22:16.727195Z",
     "start_time": "2021-10-06T23:22:15.486098Z"
    }
   },
   "outputs": [],
   "source": [
    "## Visualize the relationship between sqft_living and price\n",
    "plot_feature_vs_target(df,x='sqft_living');"
   ]
  },
  {
   "cell_type": "markdown",
   "metadata": {},
   "source": [
    "### What Our Trendline Tells Us\n",
    "- Our trendline summarizes the relationship between our feature and our target.\n",
    "- It is comprised of the: \n",
    "    - y-intercept (AKA $c$ or $b$ or $\\beta_{0}$) indicating the default value of y when X=0.\n",
    "    - and a slope (AKA $m$ or $\\beta$) indicating the relationship between X and y. When X increases by 1, y increases by $m$."
   ]
  },
  {
   "cell_type": "code",
   "execution_count": null,
   "metadata": {
    "ExecuteTime": {
     "end_time": "2021-10-06T23:22:17.990665Z",
     "start_time": "2021-10-06T23:22:16.731421Z"
    }
   },
   "outputs": [],
   "source": [
    "## Visualize the relationship between bathrooms and price\n",
    "plot_feature_vs_target(df,x='bathrooms');"
   ]
  },
  {
   "cell_type": "code",
   "execution_count": null,
   "metadata": {
    "ExecuteTime": {
     "end_time": "2021-10-06T23:22:19.332553Z",
     "start_time": "2021-10-06T23:22:17.993300Z"
    }
   },
   "outputs": [],
   "source": [
    "## Visualize the relationship between bedrooms and price\n",
    "plot_feature_vs_target(df,x='bedrooms')"
   ]
  },
  {
   "cell_type": "markdown",
   "metadata": {},
   "source": [
    ">- Now, let's create a Linear Regression model with sci-kit learn to determine the effect of these 3 features!"
   ]
  },
  {
   "cell_type": "markdown",
   "metadata": {},
   "source": [
    "## 🕹Activity: Predicting House Price with `LinearRegression`"
   ]
  },
  {
   "cell_type": "code",
   "execution_count": null,
   "metadata": {
    "ExecuteTime": {
     "end_time": "2021-10-06T23:22:19.336363Z",
     "start_time": "2021-10-06T23:22:19.334453Z"
    }
   },
   "outputs": [],
   "source": [
    "## Create our X & y using bedrooms,bathrooms, sqft-living\n",
    "\n",
    "X = None\n",
    "y = None\n",
    "\n",
    "## Train test split (random-state 321, test_size=0.25)\n",
    "X_train, X_test, y_train, y_test = None"
   ]
  },
  {
   "cell_type": "code",
   "execution_count": null,
   "metadata": {
    "ExecuteTime": {
     "end_time": "2021-10-06T23:22:19.340511Z",
     "start_time": "2021-10-06T23:22:19.338460Z"
    }
   },
   "outputs": [],
   "source": [
    "## import LinearRegression from sklearn and fit the model\n",
    "from ...\n",
    "linreg = None\n",
    "lingreg"
   ]
  },
  {
   "cell_type": "code",
   "execution_count": null,
   "metadata": {
    "ExecuteTime": {
     "end_time": "2021-10-06T23:22:19.340511Z",
     "start_time": "2021-10-06T23:22:19.338460Z"
    }
   },
   "outputs": [],
   "source": [
    "## Get our models' R-squared value for the train and test data\n",
    "print(f\"Training R-Squared: {linreg.score(X_train,y_train):.3f}\")\n",
    "print(f\"Test R-Squared: {linreg.score(X_test,y_test):.3f}\")"
   ]
  },
  {
   "cell_type": "markdown",
   "metadata": {},
   "source": [
    ">- Ok, so what does this tell us?\n",
    "    - Our model can explain 52% of the variance of house price using just 3 features!"
   ]
  },
  {
   "cell_type": "markdown",
   "metadata": {},
   "source": [
    "### What Coefficients Did Our Model Find? "
   ]
  },
  {
   "cell_type": "code",
   "execution_count": null,
   "metadata": {
    "ExecuteTime": {
     "end_time": "2021-10-06T23:22:19.354752Z",
     "start_time": "2021-10-06T23:22:19.351446Z"
    }
   },
   "outputs": [],
   "source": [
    "## NOTE: with more time, we would code this together. \n",
    "def get_coeffs(reg,X_train):\n",
    "    \"\"\"Extracts the coefficients from a scikit-learn LinearRegression or LogisticRegression\"\"\"\n",
    "    coeffs = pd.Series(reg.coef_.flatten(),index=X_train.columns)\n",
    "    \n",
    "    if isinstance(reg.intercept_,np.ndarray):\n",
    "        coeffs.loc['intercept'] = reg.intercept_[0]\n",
    "    else:\n",
    "        coeffs.loc['intercept'] = reg.intercept_\n",
    "\n",
    "    return coeffs"
   ]
  },
  {
   "cell_type": "markdown",
   "metadata": {},
   "source": [
    "- Linear Regression Equation\n",
    "$$ \\large \\hat y = \\beta_0 + \\beta_1 x_1 + \\beta_2 x_2 + \\ldots + \\beta_n x_n  $$\n",
    "which we can simplify to:\n",
    "$$ \\hat y =  \\sum_{i=0}^{N} \\beta_i x_i  $$"
   ]
  },
  {
   "cell_type": "code",
   "execution_count": null,
   "metadata": {
    "ExecuteTime": {
     "end_time": "2021-10-06T23:30:25.789418Z",
     "start_time": "2021-10-06T23:30:25.787353Z"
    }
   },
   "outputs": [],
   "source": [
    "## Get the coefficents from the model using our new function\n",
    "coeffs = None\n",
    "coeffs"
   ]
  },
  {
   "cell_type": "markdown",
   "metadata": {},
   "source": [
    ">- **Each coefficient tells us the effect of increasing the values in that column by 1 unit.** \n",
    ">- According to our model, we can determine a home's price using the following results:\n",
    "    - The model assumed a default/starting house price was \\$72,570.76 (the intercept)\n",
    "    - For each additional bedrooms, subtract      \\$56,340.077\n",
    "    - For each batrhoom, add \\$8,206.82\n",
    "    - For each square foot of living space, add \\$308.54"
   ]
  },
  {
   "cell_type": "code",
   "execution_count": null,
   "metadata": {
    "ExecuteTime": {
     "end_time": "2021-10-06T23:22:19.344886Z",
     "start_time": "2021-10-06T23:22:19.342623Z"
    },
    "scrolled": true
   },
   "outputs": [],
   "source": [
    "## Let's select an example house and see how we calculate price\n",
    "i = 300\n",
    "house = None"
   ]
  },
  {
   "cell_type": "code",
   "execution_count": null,
   "metadata": {
    "ExecuteTime": {
     "end_time": "2021-10-06T23:22:19.349273Z",
     "start_time": "2021-10-06T23:22:19.346934Z"
    }
   },
   "outputs": [],
   "source": [
    "## Calculate the home's predicted price using our coefficients\n",
    "price = house['bedrooms']*coeffs['bedrooms'] + \\\n",
    "        house['bathrooms']*coeffs['bathrooms'] + \\\n",
    "        house['sqft_living']*coeffs['sqft_living'] \\\n",
    "        + coeffs['intercept']\n",
    "\n",
    "print(f\"${price:,.2f}\")"
   ]
  },
  {
   "cell_type": "code",
   "execution_count": null,
   "metadata": {
    "ExecuteTime": {
     "end_time": "2021-10-06T23:22:19.364246Z",
     "start_time": "2021-10-06T23:22:19.361898Z"
    }
   },
   "outputs": [],
   "source": [
    "## What would our model predict for our test house?\n"
   ]
  },
  {
   "cell_type": "markdown",
   "metadata": {},
   "source": [
    "## Linear Regression Summary\n",
    "- Linear regression allowed us to predict the exact dollar price of a given home.\n",
    "- It summarizes the relationship of each feature using coefficients, which are used to calculate the target. \n",
    "\n",
    ">-  But what do we do when we want to predict what group a house belongs to instead of an exact price?"
   ]
  },
  {
   "cell_type": "markdown",
   "metadata": {},
   "source": [
    "# Predicting the Probability of a Being an Expensive Home Logistic Regression"
   ]
  },
  {
   "cell_type": "markdown",
   "metadata": {},
   "source": [
    "## ~~🕹Activity:~~ Converting Our Task to A Classifcation Task"
   ]
  },
  {
   "cell_type": "code",
   "execution_count": null,
   "metadata": {
    "ExecuteTime": {
     "end_time": "2021-10-06T23:23:43.618969Z",
     "start_time": "2021-10-06T23:23:42.914245Z"
    }
   },
   "outputs": [],
   "source": [
    "## Plot the distrubtion again and add the cutoff as a vertical line\n",
    "g = sns.displot(df['price'],aspect=2)"
   ]
  },
  {
   "cell_type": "markdown",
   "metadata": {},
   "source": [
    "- Let's create a new \"Expensive Home\" categorical target column (1=Expensive Home, 0= Not-Expensive Home)\n",
    "    - First, we need to determine what we consider expensive!\n",
    "        - For today, we will define the top 10% most expensive homes as the \"Expensive Home\" category. "
   ]
  },
  {
   "cell_type": "code",
   "execution_count": null,
   "metadata": {
    "ExecuteTime": {
     "end_time": "2021-10-06T23:23:55.664014Z",
     "start_time": "2021-10-06T23:23:54.760940Z"
    },
    "scrolled": false
   },
   "outputs": [],
   "source": [
    "## Test out using different quantiles as our cutoff\n",
    "cutoff = df['price'].quantile(q=0.90)\n",
    "\n",
    "## Plot the distrubtion again and add the cutoff as a vertical line\n",
    "g = sns.displot(df['price'],aspect=2)\n",
    "g.ax.axvline(cutoff,color='black',label='cutoff',ls='--')\n",
    "g.ax.legend()"
   ]
  },
  {
   "cell_type": "code",
   "execution_count": null,
   "metadata": {
    "ExecuteTime": {
     "end_time": "2021-10-06T23:23:55.672656Z",
     "start_time": "2021-10-06T23:23:55.666363Z"
    }
   },
   "outputs": [],
   "source": [
    "## Use our cutoff to create the Expensive Home column (as a 0 or 1)\n",
    "df['Expensive Home'] = (df['price'] >= cutoff).astype(int)\n",
    "\n",
    "## Visualize how many houses in each group\n",
    "# sns.countplot(data=df, x='Expensive Home');\n",
    "df['Expensive Home'].value_counts(normalize=True)"
   ]
  },
  {
   "cell_type": "markdown",
   "metadata": {},
   "source": [
    ">- While our classes are imbalanced, diving into various methods to deal with imbalanced classes is beyond the score of today's lesson."
   ]
  },
  {
   "cell_type": "markdown",
   "metadata": {},
   "source": [
    "### Visualizing Our Features vs our New Binary Taget\n",
    "<!-- Predicting \"Expensive Homes\" -->\n",
    "- We want to determine how features of a home influence the chance the home belongs to the Epensive Home category. \n",
    "- Let's visualize our features again, but now vs our new target. "
   ]
  },
  {
   "cell_type": "code",
   "execution_count": null,
   "metadata": {
    "ExecuteTime": {
     "end_time": "2021-09-30T19:11:43.436044Z",
     "start_time": "2021-09-30T19:11:42.068757Z"
    }
   },
   "outputs": [],
   "source": [
    "## Visualize the relationship between sqft_living and Expensive Home\n",
    "ax = plot_feature_vs_target(df,x='sqft_living',y='Expensive Home',price_format=False)\n",
    "ax.set_ylim(-.1,1.1);"
   ]
  },
  {
   "cell_type": "code",
   "execution_count": null,
   "metadata": {
    "ExecuteTime": {
     "end_time": "2021-09-30T19:12:17.033826Z",
     "start_time": "2021-09-30T19:12:15.649822Z"
    }
   },
   "outputs": [],
   "source": [
    "## Visualize the relationship between bathrooms and Expensive Home\n",
    "ax = plot_feature_vs_target(df,x='bathrooms',y='Expensive Home',\n",
    "                           price_format=True)\n",
    "ax.set_ylim(-.1,1.1);"
   ]
  },
  {
   "cell_type": "code",
   "execution_count": null,
   "metadata": {
    "ExecuteTime": {
     "end_time": "2021-09-30T19:18:35.726435Z",
     "start_time": "2021-09-30T19:18:34.465352Z"
    }
   },
   "outputs": [],
   "source": [
    "## Visualize the relationship between bedrooms and Expensive Home\n",
    "ax = plot_feature_vs_target(df,x='bedrooms',y='Expensive Home')\n",
    "ax.set_ylim(-.1,1.1);\n",
    "ax.set_xlim(0,20)"
   ]
  },
  {
   "cell_type": "markdown",
   "metadata": {},
   "source": [
    "### When straight lines aren't enough...."
   ]
  },
  {
   "cell_type": "markdown",
   "metadata": {},
   "source": [
    ">- Hmmm... this doesn't look like it will work. Our trend lines are just not appropriate for predicting which group a house belongs to.\n",
    "\n",
    "- ***How can use a linear regression equation to calculate the probability of being in the Expensive Home group?***\n",
    "\n",
    "- Transform Linear Regression Equation into a Sigmoid Curve!"
   ]
  },
  {
   "cell_type": "markdown",
   "metadata": {},
   "source": [
    "### Converting Our Linear Equation to A Sigmoid Curve"
   ]
  },
  {
   "cell_type": "markdown",
   "metadata": {},
   "source": [
    "- Remember our linear regression equation can be summarized as:\n",
    "$$ \\hat y = \\sum_{i=0}^{N} \\beta_i x_i $$\n",
    "\n",
    "- By taking this equation and moving it to the denominator, we can restrict our output to values between 0 and 1.\n",
    "$$\\large \\text{Prob} = \\displaystyle \\frac{1}{1+e^{-\\hat y}} = \\frac{1}{1+e^{-\\sum_{i=0}^{N} \\beta_i x_i}} $$\n",
    "\n",
    "$$ \\large = \\frac{1}{1+e^{-\\beta_0}e^{-\\beta_1 x_1}\\ldots e^{-\\beta_N x_N}} $$"
   ]
  },
  {
   "cell_type": "markdown",
   "metadata": {},
   "source": [
    ">- **Visual Example of Converting Linear Equation to a Sigmoid Curve** [Desmos Example](https://www.desmos.com/calculator/vk1afglgyc)"
   ]
  },
  {
   "cell_type": "markdown",
   "metadata": {},
   "source": [
    "## 🕹Activity: Predicting if a House Belongs to the \"Expensive Home\" class. "
   ]
  },
  {
   "cell_type": "code",
   "execution_count": null,
   "metadata": {
    "ExecuteTime": {
     "end_time": "2021-09-30T19:21:13.016963Z",
     "start_time": "2021-09-30T19:21:13.014852Z"
    }
   },
   "outputs": [],
   "source": [
    "## Create X & y and train test split, just like before (except new target)\n",
    "\n",
    "X = None\n",
    "y = None\n",
    "\n",
    "\n",
    "## Train test split (random-state 321, test_size=0.25)\n",
    "X_train, X_test, y_train, y_test = None"
   ]
  },
  {
   "cell_type": "code",
   "execution_count": null,
   "metadata": {
    "ExecuteTime": {
     "end_time": "2021-09-30T19:21:24.990235Z",
     "start_time": "2021-09-30T19:21:24.988434Z"
    }
   },
   "outputs": [],
   "source": [
    "## Import LogisticRegression \n",
    "from ... import ...\n",
    "# Initialize and fit model (use class_weight='balanced',\n",
    "    # will explain in-depth next class!)\n",
    "logreg = None\n",
    "logreg"
   ]
  },
  {
   "cell_type": "code",
   "execution_count": null,
   "metadata": {
    "ExecuteTime": {
     "end_time": "2021-09-30T19:06:55.945799Z",
     "start_time": "2021-09-30T19:06:55.939040Z"
    }
   },
   "outputs": [],
   "source": [
    "## Get the coefficents with our function\n",
    "logreg_coeffs = None"
   ]
  },
  {
   "cell_type": "code",
   "execution_count": null,
   "metadata": {
    "ExecuteTime": {
     "end_time": "2021-09-30T19:21:57.676904Z",
     "start_time": "2021-09-30T19:21:57.674628Z"
    },
    "scrolled": true
   },
   "outputs": [],
   "source": [
    "## Let's select an example house\n",
    "i = 300\n",
    "house = None"
   ]
  },
  {
   "cell_type": "code",
   "execution_count": null,
   "metadata": {
    "ExecuteTime": {
     "end_time": "2021-09-30T19:22:02.203429Z",
     "start_time": "2021-09-30T19:22:02.201346Z"
    }
   },
   "outputs": [],
   "source": [
    "## calculate the home's probability of being an Expensive Home \n",
    "prob = house['bedrooms']*logreg_coeffs['bedrooms'] + \\\n",
    "        house['bathrooms']*logreg_coeffs['bathrooms'] + \\\n",
    "        house['sqft_living']*logreg_coeffs['sqft_living'] + logreg_coeffs['intercept']\n",
    "\n",
    "prob"
   ]
  },
  {
   "cell_type": "markdown",
   "metadata": {},
   "source": [
    "- ***Hmmm...that value doesn't seem right. I thought probabilities were always between 0 and 1? What gives?***"
   ]
  },
  {
   "cell_type": "markdown",
   "metadata": {},
   "source": [
    ">\"...logistic regression coefficients represent the **log odds** that an observation is in the target \\class (“1”) given the values of its X variables. Thus, these log odd coefficients need to be converted to regular odds in order to make sense of them. Happily, this is done by simply exponentiating the log odds coefficients, which you can do with np.exp()\"<br>- Source: [Medium Blog Post on Interpreting Linear Regression and Logistic Regression Coefficients](https://towardsdatascience.com/interpreting-coefficients-in-linear-and-logistic-regression-6ddf1295f6f1)"
   ]
  },
  {
   "cell_type": "code",
   "execution_count": null,
   "metadata": {
    "ExecuteTime": {
     "end_time": "2021-09-30T19:23:17.384338Z",
     "start_time": "2021-09-30T19:23:17.382107Z"
    }
   },
   "outputs": [],
   "source": [
    "## Convert log-odds to odds\n"
   ]
  },
  {
   "cell_type": "markdown",
   "metadata": {},
   "source": [
    ">- **Odds are how much more likely to fall into 1 class than 0 class.**\n",
    "    - A value of 1 means both classes are equally like. \n",
    "    - A value > 1 means that the 1 class is more likely than the 0 class.\n",
    "    - A value < 1 means that the 1 class is less likely than the 0 class.\n",
    "    \n",
    "    \n",
    "- Therefore, our calculated 0.046 means that we are much less likely to be an Expensive Home than an Non-Expensive Home."
   ]
  },
  {
   "cell_type": "code",
   "execution_count": null,
   "metadata": {
    "ExecuteTime": {
     "end_time": "2021-09-30T19:23:27.347092Z",
     "start_time": "2021-09-30T19:23:27.344949Z"
    }
   },
   "outputs": [],
   "source": [
    "## Let's check what our model would predict\n"
   ]
  },
  {
   "cell_type": "markdown",
   "metadata": {},
   "source": [
    "#### What did we get?\n",
    "> Hey...thats not odds or probability!\n",
    "\n",
    "- Nope! scikit-learn's `logreg.predict` method assumes you wanted to know which **class/label** was more likely. \n",
    "- To find out the **probability** of being an Expensive Home, we can use `logreg.predict_proba`"
   ]
  },
  {
   "cell_type": "code",
   "execution_count": null,
   "metadata": {
    "ExecuteTime": {
     "end_time": "2021-09-30T19:06:55.985010Z",
     "start_time": "2021-09-30T19:06:55.979967Z"
    }
   },
   "outputs": [],
   "source": [
    "## get the probabilities using predict_proba\n"
   ]
  },
  {
   "cell_type": "code",
   "execution_count": null,
   "metadata": {
    "ExecuteTime": {
     "end_time": "2021-09-30T19:23:33.130723Z",
     "start_time": "2021-09-30T19:23:33.128779Z"
    }
   },
   "outputs": [],
   "source": [
    "## OK, so what is the ACTUAL class of our example home?\n"
   ]
  },
  {
   "cell_type": "markdown",
   "metadata": {},
   "source": [
    "#### Summary\n",
    "- Today we used a LogisticRegression model to predict which class each row belong to. \n",
    "- We discussed how the sigmoid curve allows us to predict probabilities with a variant of linear regression. \n"
   ]
  },
  {
   "cell_type": "markdown",
   "metadata": {},
   "source": [
    "# Next Class"
   ]
  },
  {
   "cell_type": "markdown",
   "metadata": {},
   "source": [
    "- How to evaluate our classification model. \n",
    "- How to deal with imbalanced classes. \n",
    "- Regularization and the hyperparameter `C`"
   ]
  },
  {
   "cell_type": "code",
   "execution_count": null,
   "metadata": {
    "ExecuteTime": {
     "end_time": "2021-09-30T19:06:56.268323Z",
     "start_time": "2021-09-30T19:06:55.993979Z"
    }
   },
   "outputs": [],
   "source": [
    "## Next time....\n",
    "y_hat_test = logreg.predict(X_test)\n",
    "print(classification_report(y_test,y_hat_test,target_names=['Not Expensive','Expensive']))\n",
    "plot_confusion_matrix(logreg,X_test,y_test,cmap='Blues',normalize='true');"
   ]
  },
  {
   "cell_type": "markdown",
   "metadata": {},
   "source": [
    "# Questions?"
   ]
  },
  {
   "cell_type": "markdown",
   "metadata": {},
   "source": [
    "- ?"
   ]
  }
 ],
 "metadata": {
  "kernelspec": {
   "display_name": "Python (learn-env)",
   "language": "python",
   "name": "learn-env"
  },
  "language_info": {
   "codemirror_mode": {
    "name": "ipython",
    "version": 3
   },
   "file_extension": ".py",
   "mimetype": "text/x-python",
   "name": "python",
   "nbconvert_exporter": "python",
   "pygments_lexer": "ipython3",
   "version": "3.8.5"
  },
  "toc": {
   "base_numbering": 1,
   "nav_menu": {},
   "number_sections": true,
   "sideBar": true,
   "skip_h1_title": false,
   "title_cell": "Table of Contents",
   "title_sidebar": "Contents",
   "toc_cell": true,
   "toc_position": {
    "height": "calc(100% - 180px)",
    "left": "10px",
    "top": "150px",
    "width": "320px"
   },
   "toc_section_display": true,
   "toc_window_display": true
  }
 },
 "nbformat": 4,
 "nbformat_minor": 4
}
