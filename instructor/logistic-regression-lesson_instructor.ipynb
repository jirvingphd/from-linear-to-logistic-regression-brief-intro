{
 "cells": [
  {
   "cell_type": "markdown",
   "metadata": {},
   "source": [
    "# From Linear to Logistic Regression (A Brief Introduction)"
   ]
  },
  {
   "cell_type": "markdown",
   "metadata": {},
   "source": [
    "- 10/07/21\n",
    "- James M. Irving, Ph.D."
   ]
  },
  {
   "cell_type": "markdown",
   "metadata": {
    "toc": true
   },
   "source": [
    "<h1>Table of Contents<span class=\"tocSkip\"></span></h1>\n",
    "<div class=\"toc\"><ul class=\"toc-item\"><li><span><a href=\"#From-Linear-to-Logistic-Regression-(A-Brief-Introduction)\" data-toc-modified-id=\"From-Linear-to-Logistic-Regression-(A-Brief-Introduction)-1\"><span class=\"toc-item-num\">1&nbsp;&nbsp;</span>From Linear to Logistic Regression (A Brief Introduction)</a></span><ul class=\"toc-item\"><li><span><a href=\"#Learning-Objectives\" data-toc-modified-id=\"Learning-Objectives-1.1\"><span class=\"toc-item-num\">1.1&nbsp;&nbsp;</span>Learning Objectives</a></span></li></ul></li><li><span><a href=\"#Predicting-the-Price-of-a-Home-Using-Linear-Regression\" data-toc-modified-id=\"Predicting-the-Price-of-a-Home-Using-Linear-Regression-2\"><span class=\"toc-item-num\">2&nbsp;&nbsp;</span>Predicting the Price of a Home Using Linear Regression</a></span><ul class=\"toc-item\"><li><span><a href=\"#🕹Activity:-Visualizing-Our-Features-vs-Our-Target\" data-toc-modified-id=\"🕹Activity:-Visualizing-Our-Features-vs-Our-Target-2.1\"><span class=\"toc-item-num\">2.1&nbsp;&nbsp;</span><del>🕹Activity:</del> Visualizing Our Features vs Our Target</a></span><ul class=\"toc-item\"><li><span><a href=\"#Functionizing-Our-Code\" data-toc-modified-id=\"Functionizing-Our-Code-2.1.1\"><span class=\"toc-item-num\">2.1.1&nbsp;&nbsp;</span>Functionizing Our Code</a></span></li><li><span><a href=\"#What-Our-Trendline-Tells-Us\" data-toc-modified-id=\"What-Our-Trendline-Tells-Us-2.1.2\"><span class=\"toc-item-num\">2.1.2&nbsp;&nbsp;</span>What Our Trendline Tells Us</a></span></li></ul></li><li><span><a href=\"#🕹Activity:-Predicting-House-Price-with-sci-kit-learn's-LinearRegression\" data-toc-modified-id=\"🕹Activity:-Predicting-House-Price-with-sci-kit-learn's-LinearRegression-2.2\"><span class=\"toc-item-num\">2.2&nbsp;&nbsp;</span>🕹Activity: Predicting House Price with sci-kit learn's <code>LinearRegression</code></a></span><ul class=\"toc-item\"><li><span><a href=\"#What-Coefficients-Did-Our-Model-Find?\" data-toc-modified-id=\"What-Coefficients-Did-Our-Model-Find?-2.2.1\"><span class=\"toc-item-num\">2.2.1&nbsp;&nbsp;</span>What Coefficients Did Our Model Find?</a></span></li></ul></li><li><span><a href=\"#Linear-Regression-Summary\" data-toc-modified-id=\"Linear-Regression-Summary-2.3\"><span class=\"toc-item-num\">2.3&nbsp;&nbsp;</span>Linear Regression Summary</a></span></li></ul></li><li><span><a href=\"#Predicting-the-Probability-of-a-Being-an-Expensive-Home-Logistic-Regression\" data-toc-modified-id=\"Predicting-the-Probability-of-a-Being-an-Expensive-Home-Logistic-Regression-3\"><span class=\"toc-item-num\">3&nbsp;&nbsp;</span>Predicting the Probability of a Being an Expensive Home Logistic Regression</a></span><ul class=\"toc-item\"><li><span><a href=\"#🕹Activity:-Converting-Our-Task-to-A-Classifcation-Task\" data-toc-modified-id=\"🕹Activity:-Converting-Our-Task-to-A-Classifcation-Task-3.1\"><span class=\"toc-item-num\">3.1&nbsp;&nbsp;</span>🕹Activity: Converting Our Task to A Classifcation Task</a></span><ul class=\"toc-item\"><li><span><a href=\"#Visualizing-Our-Features-vs-our-New-Binary-Taget\" data-toc-modified-id=\"Visualizing-Our-Features-vs-our-New-Binary-Taget-3.1.1\"><span class=\"toc-item-num\">3.1.1&nbsp;&nbsp;</span>Visualizing Our Features vs our New Binary Taget</a></span></li><li><span><a href=\"#When-lines-aren't-enough....\" data-toc-modified-id=\"When-lines-aren't-enough....-3.1.2\"><span class=\"toc-item-num\">3.1.2&nbsp;&nbsp;</span>When lines aren't enough....</a></span></li><li><span><a href=\"#Converting-Our-Linear-Equation-to-A-Sigmoid-Curve\" data-toc-modified-id=\"Converting-Our-Linear-Equation-to-A-Sigmoid-Curve-3.1.3\"><span class=\"toc-item-num\">3.1.3&nbsp;&nbsp;</span>Converting Our Linear Equation to A Sigmoid Curve</a></span></li></ul></li><li><span><a href=\"#🕹Activity:-Predicting-if-a-House-Belongs-to-the-&quot;Expensive-Home&quot;-class.\" data-toc-modified-id=\"🕹Activity:-Predicting-if-a-House-Belongs-to-the-&quot;Expensive-Home&quot;-class.-3.2\"><span class=\"toc-item-num\">3.2&nbsp;&nbsp;</span>🕹Activity: Predicting if a House Belongs to the \"Expensive Home\" class.</a></span></li></ul></li><li><span><a href=\"#Next-Class\" data-toc-modified-id=\"Next-Class-4\"><span class=\"toc-item-num\">4&nbsp;&nbsp;</span>Next Class</a></span></li><li><span><a href=\"#Appendix\" data-toc-modified-id=\"Appendix-5\"><span class=\"toc-item-num\">5&nbsp;&nbsp;</span>Appendix</a></span><ul class=\"toc-item\"><li><ul class=\"toc-item\"><li><span><a href=\"#Converting-Odds-to-Probability\" data-toc-modified-id=\"Converting-Odds-to-Probability-5.0.1\"><span class=\"toc-item-num\">5.0.1&nbsp;&nbsp;</span>Converting Odds to Probability</a></span></li><li><span><a href=\"#Interpreting-Odds-Coefficients\" data-toc-modified-id=\"Interpreting-Odds-Coefficients-5.0.2\"><span class=\"toc-item-num\">5.0.2&nbsp;&nbsp;</span>Interpreting Odds Coefficients</a></span></li><li><span><a href=\"#Titanic\" data-toc-modified-id=\"Titanic-5.0.3\"><span class=\"toc-item-num\">5.0.3&nbsp;&nbsp;</span>Titanic</a></span></li></ul></li></ul></li></ul></div>"
   ]
  },
  {
   "cell_type": "markdown",
   "metadata": {
    "ExecuteTime": {
     "end_time": "2021-09-30T17:22:57.157124Z",
     "start_time": "2021-09-30T17:22:57.154414Z"
    }
   },
   "source": [
    "## Learning Objectives\n",
    "- To review how linear regression predicts a continuous value.\n",
    "- To understand how we can convert a linear equation to a sigmoid curve bounded between 0 and 1. \n",
    "- To understand how Logistic Regression uses sigmoid curves to predict the probability of belonging to a specific class/category/label.\n",
    "- To apply both Linear Regression and Logistic Regression using sci-kit learn."
   ]
  },
  {
   "cell_type": "markdown",
   "metadata": {},
   "source": [
    "- Prerequisites/Assumptions:\n",
    "    - Familiar with Linear Regression\n",
    "\n",
    "- Lesson Duration:\n",
    "    - ~15 mins"
   ]
  },
  {
   "cell_type": "markdown",
   "metadata": {},
   "source": [
    "# Predicting the Price of a Home Using Linear Regression"
   ]
  },
  {
   "cell_type": "markdown",
   "metadata": {},
   "source": [
    "<img src=\"../images/istock24011682medium_1200xx1697-955-0-88.jpg\" width=60% alt=\"Source: https://images.app.goo.gl/oJoMSGU8LGgDjkA76\">"
   ]
  },
  {
   "cell_type": "code",
   "execution_count": null,
   "metadata": {
    "ExecuteTime": {
     "start_time": "2021-10-07T15:08:25.933Z"
    }
   },
   "outputs": [
    {
     "name": "stdout",
     "output_type": "stream",
     "text": [
      "fsds v0.4.10 loaded.\n"
     ]
    },
    {
     "data": {
      "text/html": [
       "<style  type=\"text/css\" >\n",
       "#T_6d06ce64_2780_11ec_bd9c_acde48001122row0_col0,#T_6d06ce64_2780_11ec_bd9c_acde48001122row0_col2,#T_6d06ce64_2780_11ec_bd9c_acde48001122row0_col3,#T_6d06ce64_2780_11ec_bd9c_acde48001122row1_col0,#T_6d06ce64_2780_11ec_bd9c_acde48001122row1_col2,#T_6d06ce64_2780_11ec_bd9c_acde48001122row1_col3,#T_6d06ce64_2780_11ec_bd9c_acde48001122row2_col0,#T_6d06ce64_2780_11ec_bd9c_acde48001122row2_col2,#T_6d06ce64_2780_11ec_bd9c_acde48001122row2_col3,#T_6d06ce64_2780_11ec_bd9c_acde48001122row3_col0,#T_6d06ce64_2780_11ec_bd9c_acde48001122row3_col2,#T_6d06ce64_2780_11ec_bd9c_acde48001122row3_col3,#T_6d06ce64_2780_11ec_bd9c_acde48001122row4_col0,#T_6d06ce64_2780_11ec_bd9c_acde48001122row4_col2,#T_6d06ce64_2780_11ec_bd9c_acde48001122row4_col3,#T_6d06ce64_2780_11ec_bd9c_acde48001122row5_col0,#T_6d06ce64_2780_11ec_bd9c_acde48001122row5_col2,#T_6d06ce64_2780_11ec_bd9c_acde48001122row5_col3,#T_6d06ce64_2780_11ec_bd9c_acde48001122row6_col0,#T_6d06ce64_2780_11ec_bd9c_acde48001122row6_col2,#T_6d06ce64_2780_11ec_bd9c_acde48001122row6_col3,#T_6d06ce64_2780_11ec_bd9c_acde48001122row7_col0,#T_6d06ce64_2780_11ec_bd9c_acde48001122row7_col2,#T_6d06ce64_2780_11ec_bd9c_acde48001122row7_col3{\n",
       "            text-align:  left;\n",
       "        }#T_6d06ce64_2780_11ec_bd9c_acde48001122row0_col1,#T_6d06ce64_2780_11ec_bd9c_acde48001122row0_col4,#T_6d06ce64_2780_11ec_bd9c_acde48001122row1_col1,#T_6d06ce64_2780_11ec_bd9c_acde48001122row1_col4,#T_6d06ce64_2780_11ec_bd9c_acde48001122row2_col1,#T_6d06ce64_2780_11ec_bd9c_acde48001122row2_col4,#T_6d06ce64_2780_11ec_bd9c_acde48001122row3_col1,#T_6d06ce64_2780_11ec_bd9c_acde48001122row3_col4,#T_6d06ce64_2780_11ec_bd9c_acde48001122row4_col1,#T_6d06ce64_2780_11ec_bd9c_acde48001122row4_col4,#T_6d06ce64_2780_11ec_bd9c_acde48001122row5_col1,#T_6d06ce64_2780_11ec_bd9c_acde48001122row5_col4,#T_6d06ce64_2780_11ec_bd9c_acde48001122row6_col1,#T_6d06ce64_2780_11ec_bd9c_acde48001122row6_col4,#T_6d06ce64_2780_11ec_bd9c_acde48001122row7_col1,#T_6d06ce64_2780_11ec_bd9c_acde48001122row7_col4{\n",
       "            text-align:  left;\n",
       "            text-align:  center;\n",
       "        }</style><table id=\"T_6d06ce64_2780_11ec_bd9c_acde48001122\" ><caption>Loaded Packages & Info</caption><thead>    <tr>        <th class=\"col_heading level0 col0\" >Package</th>        <th class=\"col_heading level0 col1\" >Handle</th>        <th class=\"col_heading level0 col2\" >Version</th>        <th class=\"col_heading level0 col3\" >Documentation</th>        <th class=\"col_heading level0 col4\" >Imported</th>    </tr></thead><tbody>\n",
       "                <tr>\n",
       "                                <td id=\"T_6d06ce64_2780_11ec_bd9c_acde48001122row0_col0\" class=\"data row0 col0\" >pandas</td>\n",
       "                        <td id=\"T_6d06ce64_2780_11ec_bd9c_acde48001122row0_col1\" class=\"data row0 col1\" >pd</td>\n",
       "                        <td id=\"T_6d06ce64_2780_11ec_bd9c_acde48001122row0_col2\" class=\"data row0 col2\" >1.1.3</td>\n",
       "                        <td id=\"T_6d06ce64_2780_11ec_bd9c_acde48001122row0_col3\" class=\"data row0 col3\" ><a href=\"https://pandas.pydata.org/docs/\">https://pandas.pydata.org/docs/</a></td>\n",
       "                        <td id=\"T_6d06ce64_2780_11ec_bd9c_acde48001122row0_col4\" class=\"data row0 col4\" >Y</td>\n",
       "            </tr>\n",
       "            <tr>\n",
       "                                <td id=\"T_6d06ce64_2780_11ec_bd9c_acde48001122row1_col0\" class=\"data row1 col0\" >fsds</td>\n",
       "                        <td id=\"T_6d06ce64_2780_11ec_bd9c_acde48001122row1_col1\" class=\"data row1 col1\" >fs</td>\n",
       "                        <td id=\"T_6d06ce64_2780_11ec_bd9c_acde48001122row1_col2\" class=\"data row1 col2\" >0.4.10</td>\n",
       "                        <td id=\"T_6d06ce64_2780_11ec_bd9c_acde48001122row1_col3\" class=\"data row1 col3\" ><a href=\"https://fs-ds.readthedocs.io/en/latest/\">https://fs-ds.readthedocs.io/en/latest/</a></td>\n",
       "                        <td id=\"T_6d06ce64_2780_11ec_bd9c_acde48001122row1_col4\" class=\"data row1 col4\" >Y</td>\n",
       "            </tr>\n",
       "            <tr>\n",
       "                                <td id=\"T_6d06ce64_2780_11ec_bd9c_acde48001122row2_col0\" class=\"data row2 col0\" >numpy</td>\n",
       "                        <td id=\"T_6d06ce64_2780_11ec_bd9c_acde48001122row2_col1\" class=\"data row2 col1\" >np</td>\n",
       "                        <td id=\"T_6d06ce64_2780_11ec_bd9c_acde48001122row2_col2\" class=\"data row2 col2\" >1.19.5</td>\n",
       "                        <td id=\"T_6d06ce64_2780_11ec_bd9c_acde48001122row2_col3\" class=\"data row2 col3\" ><a href=\"https://numpy.org/doc/stable/reference/\">https://numpy.org/doc/stable/reference/</a></td>\n",
       "                        <td id=\"T_6d06ce64_2780_11ec_bd9c_acde48001122row2_col4\" class=\"data row2 col4\" >Y</td>\n",
       "            </tr>\n",
       "            <tr>\n",
       "                                <td id=\"T_6d06ce64_2780_11ec_bd9c_acde48001122row3_col0\" class=\"data row3 col0\" >matplotlib</td>\n",
       "                        <td id=\"T_6d06ce64_2780_11ec_bd9c_acde48001122row3_col1\" class=\"data row3 col1\" >mpl</td>\n",
       "                        <td id=\"T_6d06ce64_2780_11ec_bd9c_acde48001122row3_col2\" class=\"data row3 col2\" >3.3.1</td>\n",
       "                        <td id=\"T_6d06ce64_2780_11ec_bd9c_acde48001122row3_col3\" class=\"data row3 col3\" ><a href=\"https://matplotlib.org/stable/api/index.html\">https://matplotlib.org/stable/api/index.html</a></td>\n",
       "                        <td id=\"T_6d06ce64_2780_11ec_bd9c_acde48001122row3_col4\" class=\"data row3 col4\" >Y</td>\n",
       "            </tr>\n",
       "            <tr>\n",
       "                                <td id=\"T_6d06ce64_2780_11ec_bd9c_acde48001122row4_col0\" class=\"data row4 col0\" >matplotlib.pyplot</td>\n",
       "                        <td id=\"T_6d06ce64_2780_11ec_bd9c_acde48001122row4_col1\" class=\"data row4 col1\" >plt</td>\n",
       "                        <td id=\"T_6d06ce64_2780_11ec_bd9c_acde48001122row4_col2\" class=\"data row4 col2\" ></td>\n",
       "                        <td id=\"T_6d06ce64_2780_11ec_bd9c_acde48001122row4_col3\" class=\"data row4 col3\" ><a href=\"https://matplotlib.org/stable/api/_as_gen/matplotlib.pyplot.html#module-matplotlib.pyplot\">https://matplotlib.org/stable/api/_as_gen/matplotlib.pyplot.html#module-matplotlib.pyplot</a></td>\n",
       "                        <td id=\"T_6d06ce64_2780_11ec_bd9c_acde48001122row4_col4\" class=\"data row4 col4\" >Y</td>\n",
       "            </tr>\n",
       "            <tr>\n",
       "                                <td id=\"T_6d06ce64_2780_11ec_bd9c_acde48001122row5_col0\" class=\"data row5 col0\" >seaborn</td>\n",
       "                        <td id=\"T_6d06ce64_2780_11ec_bd9c_acde48001122row5_col1\" class=\"data row5 col1\" >sns</td>\n",
       "                        <td id=\"T_6d06ce64_2780_11ec_bd9c_acde48001122row5_col2\" class=\"data row5 col2\" >0.11.0</td>\n",
       "                        <td id=\"T_6d06ce64_2780_11ec_bd9c_acde48001122row5_col3\" class=\"data row5 col3\" ><a href=\"https://seaborn.pydata.org/api.html\">https://seaborn.pydata.org/api.html</a></td>\n",
       "                        <td id=\"T_6d06ce64_2780_11ec_bd9c_acde48001122row5_col4\" class=\"data row5 col4\" >Y</td>\n",
       "            </tr>\n",
       "            <tr>\n",
       "                                <td id=\"T_6d06ce64_2780_11ec_bd9c_acde48001122row6_col0\" class=\"data row6 col0\" >IPython.display</td>\n",
       "                        <td id=\"T_6d06ce64_2780_11ec_bd9c_acde48001122row6_col1\" class=\"data row6 col1\" >dp</td>\n",
       "                        <td id=\"T_6d06ce64_2780_11ec_bd9c_acde48001122row6_col2\" class=\"data row6 col2\" ></td>\n",
       "                        <td id=\"T_6d06ce64_2780_11ec_bd9c_acde48001122row6_col3\" class=\"data row6 col3\" ><a href=\"https://ipython.readthedocs.io/en/stable/api/generated/IPython.display.html\">https://ipython.readthedocs.io/en/stable/api/generated/IPython.display.html</a></td>\n",
       "                        <td id=\"T_6d06ce64_2780_11ec_bd9c_acde48001122row6_col4\" class=\"data row6 col4\" >Y</td>\n",
       "            </tr>\n",
       "            <tr>\n",
       "                                <td id=\"T_6d06ce64_2780_11ec_bd9c_acde48001122row7_col0\" class=\"data row7 col0\" >sklearn</td>\n",
       "                        <td id=\"T_6d06ce64_2780_11ec_bd9c_acde48001122row7_col1\" class=\"data row7 col1\" ></td>\n",
       "                        <td id=\"T_6d06ce64_2780_11ec_bd9c_acde48001122row7_col2\" class=\"data row7 col2\" >0.23.2</td>\n",
       "                        <td id=\"T_6d06ce64_2780_11ec_bd9c_acde48001122row7_col3\" class=\"data row7 col3\" ><a href=\"\"></a></td>\n",
       "                        <td id=\"T_6d06ce64_2780_11ec_bd9c_acde48001122row7_col4\" class=\"data row7 col4\" >N</td>\n",
       "            </tr>\n",
       "    </tbody></table>"
      ],
      "text/plain": [
       "<pandas.io.formats.style.Styler at 0x7ff74855e190>"
      ]
     },
     "metadata": {},
     "output_type": "display_data"
    }
   ],
   "source": [
    "## personal pypi package\n",
    "# !pip install -U fsds\n",
    "from fsds.imports import *"
   ]
  },
  {
   "cell_type": "code",
   "execution_count": null,
   "metadata": {
    "ExecuteTime": {
     "start_time": "2021-10-07T15:08:25.936Z"
    }
   },
   "outputs": [],
   "source": [
    "## additional required imports\n",
    "from sklearn.model_selection import train_test_split\n",
    "from sklearn.metrics import (r2_score, plot_confusion_matrix,\n",
    "                             classification_report)\n",
    "\n",
    "## Customized Options\n",
    "pd.set_option('display.float_format',lambda x: f\"{x:,.4f}\")\n",
    "plt.style.use('seaborn-talk')"
   ]
  },
  {
   "cell_type": "code",
   "execution_count": null,
   "metadata": {
    "ExecuteTime": {
     "start_time": "2021-10-07T15:08:25.940Z"
    }
   },
   "outputs": [],
   "source": [
    "## Load in the King's County housing dataset and display the head and info\n",
    "df = fs.datasets.load_king_county_housing(project_vers=False)\n",
    "display(df.head(),df.info())"
   ]
  },
  {
   "cell_type": "code",
   "execution_count": null,
   "metadata": {
    "ExecuteTime": {
     "start_time": "2021-10-07T15:08:25.943Z"
    }
   },
   "outputs": [],
   "source": [
    "## Visualize the distribution of house prices (using seaborn!)\n",
    "sns.displot(df['price'],aspect=2);"
   ]
  },
  {
   "cell_type": "markdown",
   "metadata": {},
   "source": [
    "## ~~🕹Activity:~~ Visualizing Our Features vs Our Target"
   ]
  },
  {
   "cell_type": "markdown",
   "metadata": {},
   "source": [
    "- We want to determine how features of a home influence its sale price. \n",
    "- Specifically, we will be using:\n",
    "    - `sqft_living`:Square-Footage of all Living Areas\n",
    "    - `bedrooms`: # of Bedrooms\n",
    "    - `bathrooms`: # of Bathrooms"
   ]
  },
  {
   "cell_type": "code",
   "execution_count": null,
   "metadata": {
    "ExecuteTime": {
     "start_time": "2021-10-07T15:08:25.946Z"
    }
   },
   "outputs": [],
   "source": [
    "## Plot a scatter plot of sqft-living vs price\n",
    "ax = sns.scatterplot(data=df,x='sqft_living',y='price')\n",
    "ax.set_title('Relationship Between Square Footage and Housen Price')\n",
    "ax.yaxis.set_major_formatter(\"${x:,.0f}\")"
   ]
  },
  {
   "cell_type": "markdown",
   "metadata": {},
   "source": [
    "- We can see a positive relationship between sqft-living and price, but it would be better if we could show the line-of-best-fit with it"
   ]
  },
  {
   "cell_type": "markdown",
   "metadata": {},
   "source": [
    "### Functionizing Our Code"
   ]
  },
  {
   "cell_type": "code",
   "execution_count": null,
   "metadata": {
    "ExecuteTime": {
     "start_time": "2021-10-07T15:08:25.950Z"
    }
   },
   "outputs": [],
   "source": [
    "## NOTE: if we had more time, we would write this together.\n",
    "def plot_feature_vs_target(df,x='sqft_living',y='price',price_format=True):\n",
    "    \"\"\"Plots a seaborn regplot of x vs y.\"\"\"\n",
    "    ax = sns.regplot(data=df,x=x,y=y,\n",
    "                line_kws=dict(color='k',ls='--',lw=2),\n",
    "               scatter_kws=dict(s=10,alpha=0.8)\n",
    "                    )\n",
    "    ax.get_figure().set_size_inches(10,6)\n",
    "    ax.set_title(f'{x} vs {y}')\n",
    "    \n",
    "    if price_format:\n",
    "        ax.yaxis.set_major_formatter(\"${x:,.0f}\")\n",
    "    return ax"
   ]
  },
  {
   "cell_type": "code",
   "execution_count": null,
   "metadata": {
    "ExecuteTime": {
     "start_time": "2021-10-07T15:08:25.953Z"
    }
   },
   "outputs": [],
   "source": [
    "## Visualize the relationship between sqft_living and price\n",
    "plot_feature_vs_target(df,x='sqft_living');"
   ]
  },
  {
   "cell_type": "markdown",
   "metadata": {},
   "source": [
    "### What Our Trendline Tells Us\n",
    "- Our trendline summarizes the relationship between our feature and our target.\n",
    "- It is comprised of the: \n",
    "    - y-intercept (AKA $c$ or $b$ or $\\beta_{0}$) indicating the default value of y when X=0.\n",
    "    - and a slope (AKA $m$ or $\\beta$) indicating the relationship between X and y. When X increases by 1, y increases by $m$."
   ]
  },
  {
   "cell_type": "code",
   "execution_count": null,
   "metadata": {
    "ExecuteTime": {
     "start_time": "2021-10-07T15:08:25.957Z"
    }
   },
   "outputs": [],
   "source": [
    "## Visualize the relationship between bathrooms and price\n",
    "plot_feature_vs_target(df,x='bathrooms');"
   ]
  },
  {
   "cell_type": "code",
   "execution_count": null,
   "metadata": {
    "ExecuteTime": {
     "start_time": "2021-10-07T15:08:25.960Z"
    }
   },
   "outputs": [],
   "source": [
    "## Visualize the relationship between bedrooms and price\n",
    "plot_feature_vs_target(df,x='bedrooms')"
   ]
  },
  {
   "cell_type": "markdown",
   "metadata": {},
   "source": [
    ">- Now, let's create a Linear Regression model with sci-kit learn to determine the effect of these 3 features!"
   ]
  },
  {
   "cell_type": "markdown",
   "metadata": {},
   "source": [
    "## 🕹Activity: Predicting House Price with sci-kit learn's `LinearRegression`"
   ]
  },
  {
   "cell_type": "code",
   "execution_count": null,
   "metadata": {
    "ExecuteTime": {
     "start_time": "2021-10-07T15:08:25.963Z"
    }
   },
   "outputs": [],
   "source": [
    "## Create our X & y using bedrooms,bathrooms, sqft-living\n",
    "use_cols = ['bedrooms','bathrooms','sqft_living']\n",
    "X = df[use_cols].copy()\n",
    "y = df['price'].copy()\n",
    "\n",
    "## Train test split (random-state 321, test_size=0.25)\n",
    "X_train,X_test,y_train,y_test = train_test_split(X,y,test_size=0.25,random_state=321)\n",
    "X_train"
   ]
  },
  {
   "cell_type": "code",
   "execution_count": null,
   "metadata": {
    "ExecuteTime": {
     "start_time": "2021-10-07T15:08:25.966Z"
    }
   },
   "outputs": [],
   "source": [
    "## import LinearRegression from sklearn and fit the model\n",
    "from sklearn.linear_model import LinearRegression\n",
    "linreg = LinearRegression()\n",
    "linreg.fit(X_train,y_train)"
   ]
  },
  {
   "cell_type": "code",
   "execution_count": null,
   "metadata": {
    "ExecuteTime": {
     "start_time": "2021-10-07T15:08:25.969Z"
    }
   },
   "outputs": [],
   "source": [
    "## Get our models' R-squared value for the train and test data\n",
    "print(f\"Training R-Squared: {linreg.score(X_train,y_train):.3f}\")\n",
    "print(f\"Test R-Squared: {linreg.score(X_test,y_test):.3f}\")"
   ]
  },
  {
   "cell_type": "markdown",
   "metadata": {},
   "source": [
    ">- Ok, so what does this tell us?\n",
    "    - Our model can explain 52% of the variance of house price using just 3 features!"
   ]
  },
  {
   "cell_type": "markdown",
   "metadata": {},
   "source": [
    "### What Coefficients Did Our Model Find? "
   ]
  },
  {
   "cell_type": "code",
   "execution_count": null,
   "metadata": {
    "ExecuteTime": {
     "start_time": "2021-10-07T15:08:25.973Z"
    }
   },
   "outputs": [],
   "source": [
    "## NOTE: with more time, we would code this together. \n",
    "def get_coeffs(reg,X_train):\n",
    "    \"\"\"Extracts the coefficients from a scikit-learn LinearRegression or LogisticRegression\"\"\"\n",
    "    coeffs = pd.Series(reg.coef_.flatten(),index=X_train.columns)\n",
    "    \n",
    "    if isinstance(reg.intercept_,np.ndarray):\n",
    "        coeffs.loc['intercept'] = reg.intercept_[0]\n",
    "    else:\n",
    "        coeffs.loc['intercept'] = reg.intercept_\n",
    "\n",
    "    return coeffs"
   ]
  },
  {
   "cell_type": "markdown",
   "metadata": {},
   "source": [
    "- Linear Regression Equation\n",
    "$$ \\large \\hat y = \\beta_0 + \\beta_1 x_1 + \\beta_2 x_2 + \\ldots + \\beta_n x_n  $$\n",
    "which we can simplify to:\n",
    "$$ \\hat y =  \\sum_{i=0}^{N} \\beta_i x_i  $$"
   ]
  },
  {
   "cell_type": "code",
   "execution_count": null,
   "metadata": {
    "ExecuteTime": {
     "start_time": "2021-10-07T15:08:25.976Z"
    }
   },
   "outputs": [],
   "source": [
    "## Get the coefficents from the model using our new function\n",
    "coeffs = get_coeffs(linreg,X_train)\n",
    "coeffs"
   ]
  },
  {
   "cell_type": "markdown",
   "metadata": {},
   "source": [
    ">- **Each coefficient tells us the effect of increasing the values in that column by 1 unit.** \n",
    ">- According to our model, we can determine a home's price using the following results:\n",
    "    - The model assumed a default/starting house price was \\$72,570.76 (the intercept)\n",
    "    - For each additional bedrooms, subtract      \\$56,340.077\n",
    "    - For each batrhoom, add \\$8,206.82\n",
    "    - For each square foot of living space, add \\$308.54"
   ]
  },
  {
   "cell_type": "code",
   "execution_count": null,
   "metadata": {
    "ExecuteTime": {
     "start_time": "2021-10-07T15:08:25.979Z"
    },
    "scrolled": true
   },
   "outputs": [],
   "source": [
    "## Let's select an example house and see how we calculate price\n",
    "i = 300\n",
    "house = X_test.iloc[i]\n",
    "house"
   ]
  },
  {
   "cell_type": "code",
   "execution_count": null,
   "metadata": {
    "ExecuteTime": {
     "start_time": "2021-10-07T15:08:25.983Z"
    }
   },
   "outputs": [],
   "source": [
    "## Calculate the home's predicted price using our coefficients\n",
    "price = house['bedrooms']*coeffs['bedrooms'] + \\\n",
    "        house['bathrooms']*coeffs['bathrooms'] + \\\n",
    "        house['sqft_living']*coeffs['sqft_living'] + coeffs['intercept']\n",
    "\n",
    "print(f\"${price:,.2f}\")"
   ]
  },
  {
   "cell_type": "code",
   "execution_count": null,
   "metadata": {
    "ExecuteTime": {
     "start_time": "2021-10-07T15:08:25.986Z"
    }
   },
   "outputs": [],
   "source": [
    "## What would our model predict for our test house?\n",
    "linreg.predict(house.values.reshape(1,-1))"
   ]
  },
  {
   "cell_type": "markdown",
   "metadata": {},
   "source": [
    "## Linear Regression Summary\n",
    "- Linear regression allowed us to predict the exact dollar price of a given home.\n",
    "- It summarizes the relationship of each feature using coefficients, which are used to calculate the target. \n",
    "\n",
    ">-  But what do we do when we want to predict what group a house belongs to instead of an exact price?"
   ]
  },
  {
   "cell_type": "markdown",
   "metadata": {},
   "source": [
    "# Predicting the Probability of a Being an Expensive Home Logistic Regression"
   ]
  },
  {
   "cell_type": "markdown",
   "metadata": {},
   "source": [
    "## 🕹Activity: Converting Our Task to A Classifcation Task"
   ]
  },
  {
   "cell_type": "code",
   "execution_count": null,
   "metadata": {
    "ExecuteTime": {
     "start_time": "2021-10-07T15:08:25.991Z"
    }
   },
   "outputs": [],
   "source": [
    "## Plot the distribution of house price again. \n",
    "g = sns.displot(df['price'],aspect=2)"
   ]
  },
  {
   "cell_type": "markdown",
   "metadata": {},
   "source": [
    "- Let's create a new \"Expensive Home\" categorical target column (1=Expensive Home, 0= Not-Expensive Home)\n",
    "    - First, we need to determine what we consider expensive!\n",
    "        - For today, we will define the top 10% most expensive homes as the \"Expensive Home\" category. "
   ]
  },
  {
   "cell_type": "code",
   "execution_count": null,
   "metadata": {
    "ExecuteTime": {
     "start_time": "2021-10-07T15:08:25.994Z"
    },
    "scrolled": false
   },
   "outputs": [],
   "source": [
    "## Test out using different quantiles as our cutoff\n",
    "cutoff = df['price'].quantile(q=0.90)\n",
    "\n",
    "## Plot the distrubtion again and add the cutoff as a vertical line\n",
    "g = sns.displot(df['price'],aspect=2)\n",
    "g.ax.axvline(cutoff,color='black',label='cutoff',ls='--')\n",
    "g.ax.legend()"
   ]
  },
  {
   "cell_type": "code",
   "execution_count": null,
   "metadata": {
    "ExecuteTime": {
     "start_time": "2021-10-07T15:08:25.997Z"
    }
   },
   "outputs": [],
   "source": [
    "## Use our cutoff to create the Expensive Home column (as a 0 or 1)\n",
    "df['Expensive Home'] = (df['price'] >= cutoff).astype(int)\n",
    "\n",
    "## Visualize how many houses in each group\n",
    "# sns.countplot(data=df, x='Expensive Home');\n",
    "df['Expensive Home'].value_counts(normalize=True)"
   ]
  },
  {
   "cell_type": "markdown",
   "metadata": {},
   "source": [
    ">- While our classes are imbalanced, diving into various methods to deal with imbalanced classes is beyond the score of today's lesson."
   ]
  },
  {
   "cell_type": "markdown",
   "metadata": {},
   "source": [
    "### Visualizing Our Features vs our New Binary Taget\n",
    "<!-- Predicting \"Expensive Homes\" -->\n",
    "- We want to determine how features of a home influence the chance the home belongs to the Epensive Home category. \n",
    "- Let's visualize our features again, but now vs our new target. "
   ]
  },
  {
   "cell_type": "code",
   "execution_count": null,
   "metadata": {
    "ExecuteTime": {
     "start_time": "2021-10-07T15:08:26.001Z"
    }
   },
   "outputs": [],
   "source": [
    "## Visualize the relationship between sqft_living and Expensive Home\n",
    "ax = plot_feature_vs_target(df,x='sqft_living',y='Expensive Home',\n",
    "                            price_format=False)\n",
    "ax.set_ylim(-.1,1.1);"
   ]
  },
  {
   "cell_type": "code",
   "execution_count": null,
   "metadata": {
    "ExecuteTime": {
     "start_time": "2021-10-07T15:08:26.004Z"
    }
   },
   "outputs": [],
   "source": [
    "## Visualize the relationship between bathrooms and Expensive Home\n",
    "ax = plot_feature_vs_target(df,x='bathrooms',y='Expensive Home',\n",
    "                           price_format=False)\n",
    "ax.set_ylim(-.1,1.1);"
   ]
  },
  {
   "cell_type": "code",
   "execution_count": null,
   "metadata": {
    "ExecuteTime": {
     "start_time": "2021-10-07T15:08:26.007Z"
    }
   },
   "outputs": [],
   "source": [
    "## Visualize the relationship between bedrooms and Expensive Home\n",
    "ax = plot_feature_vs_target(df,x='bedrooms',y='Expensive Home',\n",
    "                            price_format=False)\n",
    "ax.set_ylim(-.1,1.1);"
   ]
  },
  {
   "cell_type": "markdown",
   "metadata": {},
   "source": [
    "### When lines aren't enough...."
   ]
  },
  {
   "cell_type": "markdown",
   "metadata": {},
   "source": [
    ">- Hmmm... this doesn't look like it will work. Our trend lines are just not appropriate for predicting which group a house belongs to.\n",
    "\n",
    "- ***How can use a linear regression equation to calculate the probability of being in the Expensive Home group?***\n",
    "\n",
    "- Transform Linear Regression Equation into a Sigmoid Curve!"
   ]
  },
  {
   "cell_type": "markdown",
   "metadata": {},
   "source": [
    "### Converting Our Linear Equation to A Sigmoid Curve\n",
    "- Remember our linear regression equation can be summarized as:\n",
    "$$ \\hat y = \\sum_{i=0}^{N} \\beta_i x_i $$\n",
    "\n",
    "- By taking this equation and moving it to the denominator, we can restrict our output to values between 0 and 1.\n",
    "$$\\large \\text{Prob} = \\displaystyle \\frac{1}{1+e^{-\\hat y}} = \\frac{1}{1+e^{-\\sum_{i=0}^{N} \\beta_i x_i}} $$\n",
    "\n",
    "$$ \\large = \\frac{1}{1+e^{-\\beta_0}e^{-\\beta_1 x_1}\\ldots e^{-\\beta_N x_N}} $$\n",
    "\n",
    ">- **Visual Example of Converting Linear Equation to a Sigmoid Curve** [Desmos Example](https://www.desmos.com/calculator/vk1afglgyc)"
   ]
  },
  {
   "cell_type": "markdown",
   "metadata": {},
   "source": [
    "## 🕹Activity: Predicting if a House Belongs to the \"Expensive Home\" class. "
   ]
  },
  {
   "cell_type": "code",
   "execution_count": null,
   "metadata": {
    "ExecuteTime": {
     "start_time": "2021-10-07T15:08:26.011Z"
    }
   },
   "outputs": [],
   "source": [
    "## Create X & y and train test split, just like before (except new target)\n",
    "use_cols = ['bedrooms','bathrooms','sqft_living']\n",
    "X_train,X_test,y_train,y_test = train_test_split(df[use_cols],\n",
    "                                                 df['Expensive Home'],\n",
    "                                                random_state=321)\n",
    "X_train"
   ]
  },
  {
   "cell_type": "code",
   "execution_count": null,
   "metadata": {
    "ExecuteTime": {
     "start_time": "2021-10-07T15:08:26.014Z"
    }
   },
   "outputs": [],
   "source": [
    "## Import LogisticRegression \n",
    "\n",
    "from sklearn.linear_model import LogisticRegression\n",
    "\n",
    "# Initialize and fit model (use class_weight='balanced',will explain in-depth next class!)\n",
    "logreg = LogisticRegression(class_weight='balanced')\n",
    "\n",
    "logreg.fit(X_train,y_train)\n",
    "logreg.score(X_test,y_test)"
   ]
  },
  {
   "cell_type": "code",
   "execution_count": null,
   "metadata": {
    "ExecuteTime": {
     "start_time": "2021-10-07T15:08:26.018Z"
    }
   },
   "outputs": [],
   "source": [
    "## Get the coefficents the model determined\n",
    "logreg_coeffs = get_coeffs(logreg,X_train)\n",
    "logreg_coeffs"
   ]
  },
  {
   "cell_type": "code",
   "execution_count": null,
   "metadata": {
    "ExecuteTime": {
     "start_time": "2021-10-07T15:08:26.021Z"
    },
    "scrolled": true
   },
   "outputs": [],
   "source": [
    "## Let's select an example house\n",
    "i = 300\n",
    "house = X_test.iloc[i]\n",
    "house"
   ]
  },
  {
   "cell_type": "code",
   "execution_count": null,
   "metadata": {
    "ExecuteTime": {
     "start_time": "2021-10-07T15:08:26.024Z"
    }
   },
   "outputs": [],
   "source": [
    "## calculate the home's probability of being an Expensive Home \n",
    "expensive = house['bedrooms']*logreg_coeffs['bedrooms'] + \\\n",
    "        house['bathrooms']*logreg_coeffs['bathrooms'] + \\\n",
    "        house['sqft_living']*logreg_coeffs['sqft_living'] + logreg_coeffs['intercept']\n",
    "\n",
    "expensive"
   ]
  },
  {
   "cell_type": "markdown",
   "metadata": {},
   "source": [
    "- ***Hmmm...this doesn't seem right. I thought probabilities were always between 0 and 1? What gives?***"
   ]
  },
  {
   "cell_type": "markdown",
   "metadata": {},
   "source": [
    ">\"...logistic regression coefficients represent the **log odds** that an observation is in the target \\class (“1”) given the values of its X variables. Thus, these log odd coefficients need to be converted to regular odds in order to make sense of them. Happily, this is done by simply exponentiating the log odds coefficients, which you can do with np.exp()\"<br>- Source: [Medium Blog Post on Interpreting Linear Regression and Logistic Regression Coefficients](https://towardsdatascience.com/interpreting-coefficients-in-linear-and-logistic-regression-6ddf1295f6f1)"
   ]
  },
  {
   "cell_type": "code",
   "execution_count": null,
   "metadata": {
    "ExecuteTime": {
     "start_time": "2021-10-07T15:08:26.027Z"
    }
   },
   "outputs": [],
   "source": [
    "## Convert log-odds to odds\n",
    "np.exp(expensive)"
   ]
  },
  {
   "cell_type": "markdown",
   "metadata": {},
   "source": [
    ">- **Odds are how much more likely to fall into 1 class than 0 class.**\n",
    "    - A value of 1 means both classes are equally like. \n",
    "    - A value > 1 means that the 1 class is more likely than the 0 class.\n",
    "    - A value < 1 means that the 1 class is less likely than the 0 class.\n",
    "    \n",
    "    \n",
    "- Therefore, our calculated 0.046 means that we are much less likely to be an Expensive Home than an Non-Expensive Home."
   ]
  },
  {
   "cell_type": "code",
   "execution_count": null,
   "metadata": {
    "ExecuteTime": {
     "start_time": "2021-10-07T15:08:26.030Z"
    }
   },
   "outputs": [],
   "source": [
    "## Let's check what our model would predict\n",
    "logreg.predict(X_test.iloc[i].values.reshape(1,-11))"
   ]
  },
  {
   "cell_type": "markdown",
   "metadata": {},
   "source": [
    "#### What did we get?\n",
    "> Hey...thats not odds or probability!\n",
    "\n",
    "- Nope! scikit-learn's `logreg.predict` method assumes you wanted to know which **class/label** was more likely. \n",
    "- To find out the **probability** of being an Expensive Home, we can use `logreg.predict_proba`"
   ]
  },
  {
   "cell_type": "code",
   "execution_count": null,
   "metadata": {
    "ExecuteTime": {
     "start_time": "2021-10-07T15:08:26.034Z"
    }
   },
   "outputs": [],
   "source": [
    "## get the probabilities using predict_proba\n",
    "logreg.predict_proba(X_test.iloc[i].values.reshape(1,-11))"
   ]
  },
  {
   "cell_type": "code",
   "execution_count": null,
   "metadata": {
    "ExecuteTime": {
     "start_time": "2021-10-07T15:08:26.037Z"
    }
   },
   "outputs": [],
   "source": [
    "## OK, so what is the ACTUAL class of our example home?\n",
    "y_test.iloc[i]"
   ]
  },
  {
   "cell_type": "markdown",
   "metadata": {},
   "source": [
    "#### Summary\n",
    "- Today we used a LogisticRegression model to predict which class each row belong to. \n",
    "- We discussed how the sigmoid curve allows us to predict probabilities with a variant of linear regression. \n"
   ]
  },
  {
   "cell_type": "markdown",
   "metadata": {},
   "source": [
    "# Next Class"
   ]
  },
  {
   "cell_type": "markdown",
   "metadata": {},
   "source": [
    "- How to evaluate our classification model. \n",
    "- How to deal with imbalanced classes. \n",
    "- Regularization and the hyperparameter `C`"
   ]
  },
  {
   "cell_type": "code",
   "execution_count": null,
   "metadata": {
    "ExecuteTime": {
     "start_time": "2021-10-07T15:08:26.041Z"
    }
   },
   "outputs": [],
   "source": [
    "y_hat_test = logreg.predict(X_test)\n",
    "print(classification_report(y_test,y_hat_test,target_names=['Not Expensive','Expensive']))\n",
    "plot_confusion_matrix(logreg,X_test,y_test,cmap='Blues',normalize='true');"
   ]
  },
  {
   "cell_type": "markdown",
   "metadata": {},
   "source": [
    "# Appendix"
   ]
  },
  {
   "cell_type": "markdown",
   "metadata": {},
   "source": [
    "### Converting Odds to Probability"
   ]
  },
  {
   "cell_type": "markdown",
   "metadata": {},
   "source": [
    "\n",
    "$$odds = \\frac {probability} {1 - probability}$$\n",
    "\n",
    "$$probability = \\frac {odds} {1 + odds}$$\n",
    "\n",
    "And so the logit function represents the **log-odds** of success (y=1)."
   ]
  },
  {
   "cell_type": "code",
   "execution_count": null,
   "metadata": {
    "ExecuteTime": {
     "start_time": "2021-10-07T15:08:26.045Z"
    }
   },
   "outputs": [],
   "source": [
    "odds = np.exp(get_coeffs(logreg,X_train))\n",
    "odds"
   ]
  },
  {
   "cell_type": "code",
   "execution_count": null,
   "metadata": {
    "ExecuteTime": {
     "start_time": "2021-10-07T15:08:26.050Z"
    }
   },
   "outputs": [],
   "source": [
    "## convert odds to prob\n",
    "prob = odds/(1+odds)\n",
    "prob"
   ]
  },
  {
   "cell_type": "code",
   "execution_count": null,
   "metadata": {
    "ExecuteTime": {
     "start_time": "2021-10-07T15:08:26.053Z"
    }
   },
   "outputs": [],
   "source": [
    "# update function to return \n",
    "def get_coefficients(model,X_train,units = \"log-odds\"):\n",
    "    \"\"\"Returns model coefficients. \n",
    "    \n",
    "    Args:\n",
    "        model: sklearn model with the .coef_ attribute. \n",
    "        X_train: dataframe with the feature names as the .columns\n",
    "        units (str): Can be ['log-odds','odds','prob']\n",
    "        \"\"\"\n",
    "    options = ['log-odds','odds','prob']\n",
    "    \n",
    "    if units not in options:\n",
    "        raise Exception(f'units must be one of {options}')\n",
    "        \n",
    "    coeffs = pd.Series(model.coef_.flatten(), index=X_train.columns)\n",
    "    coeffs['intercept'] = model.intercept_[0]\n",
    "    \n",
    "    if units=='odds':\n",
    "        coeffs = np.exp(coeffs)\n",
    "        \n",
    "    elif units=='prob':\n",
    "        coeffs = np.exp(coeffs)\n",
    "        coeffs = coeffs/(1+coeffs)\n",
    "        \n",
    "\n",
    "    coeffs.name=units\n",
    "    return coeffs"
   ]
  },
  {
   "cell_type": "code",
   "execution_count": null,
   "metadata": {
    "ExecuteTime": {
     "start_time": "2021-10-07T15:08:26.056Z"
    }
   },
   "outputs": [],
   "source": [
    "raise Exception('Appendices below. Exlclude from Run All')"
   ]
  },
  {
   "cell_type": "markdown",
   "metadata": {},
   "source": [
    "### Interpreting Odds Coefficients"
   ]
  },
  {
   "cell_type": "code",
   "execution_count": null,
   "metadata": {},
   "outputs": [],
   "source": []
  },
  {
   "cell_type": "markdown",
   "metadata": {},
   "source": [
    "#### Interpreting Odds Coefficients\n",
    "> ***“For every one-unit increase in [X variable], the odds that the observation is in (y class) are [coefficient] times as large as the odds that the observation is not in (y class) (when all other variables are held constant).”***"
   ]
  },
  {
   "cell_type": "code",
   "execution_count": null,
   "metadata": {
    "ExecuteTime": {
     "start_time": "2021-10-07T15:08:26.061Z"
    }
   },
   "outputs": [],
   "source": [
    "## Odds are how much more likely to fall into 1 class than 0 class\n",
    "coeffs_odds = np.exp(get_coeffs(logreg,X_train))\n",
    "coeffs_odds"
   ]
  },
  {
   "cell_type": "markdown",
   "metadata": {
    "ExecuteTime": {
     "end_time": "2021-09-28T22:53:09.992922Z",
     "start_time": "2021-09-28T22:53:09.989464Z"
    }
   },
   "source": [
    "- For \"bedrooms\"=0.8577: \n",
    "    - For every 1-bedroom-increase in bedrooms, the odds that the house is Expensive (class=1) are 0.86 x as large as the odds that the home is Not Expensive (class=0)\n",
    "- For \"bathrooms\" = 1.0699:\n",
    "    - For every 1-bathroom increase  in bathrooms, the odds the house is Expensive (class=1) is 1.07 times as large as the odds that it is Not Expensive. \n",
    "- For sqft_living=1.0021\n",
    "    - For every 1-sqft increase in sqft_living, the odds the house is Expensive is 1.0021 times the odds that the home is Not Expensive. \n"
   ]
  },
  {
   "cell_type": "code",
   "execution_count": null,
   "metadata": {
    "ExecuteTime": {
     "start_time": "2021-10-07T15:08:26.064Z"
    }
   },
   "outputs": [],
   "source": [
    "odds_expensive = house['bedrooms']*coeffs_odds['bedrooms'] + \\\n",
    "        house['bathrooms']*coeffs_odds['bathrooms'] + \\\n",
    "        house['sqft_living']*coeffs_odds['sqft_living'] + coeffs_odds['intercept']\n",
    "\n",
    "odds_expensive"
   ]
  },
  {
   "cell_type": "markdown",
   "metadata": {},
   "source": [
    "### Titanic"
   ]
  },
  {
   "cell_type": "code",
   "execution_count": null,
   "metadata": {
    "ExecuteTime": {
     "start_time": "2021-10-07T15:08:26.067Z"
    }
   },
   "outputs": [],
   "source": [
    "dft = fs.datasets.load_titanic(kaggle=False, read_csv_kwds={'index_col':0})\n",
    "relevant_columns = ['Pclass', 'Age', 'SibSp', 'Fare', 'Sex', 'Embarked', 'Survived']\n",
    "dft =dft[relevant_columns]\n",
    "dft"
   ]
  }
 ],
 "metadata": {
  "kernelspec": {
   "display_name": "Python (learn-env)",
   "language": "python",
   "name": "learn-env"
  },
  "language_info": {
   "codemirror_mode": {
    "name": "ipython",
    "version": 3
   },
   "file_extension": ".py",
   "mimetype": "text/x-python",
   "name": "python",
   "nbconvert_exporter": "python",
   "pygments_lexer": "ipython3",
   "version": "3.8.5"
  },
  "toc": {
   "base_numbering": 1,
   "nav_menu": {},
   "number_sections": true,
   "sideBar": true,
   "skip_h1_title": false,
   "title_cell": "Table of Contents",
   "title_sidebar": "Contents",
   "toc_cell": true,
   "toc_position": {
    "height": "calc(100% - 180px)",
    "left": "10px",
    "top": "150px",
    "width": "320px"
   },
   "toc_section_display": true,
   "toc_window_display": true
  }
 },
 "nbformat": 4,
 "nbformat_minor": 4
}
